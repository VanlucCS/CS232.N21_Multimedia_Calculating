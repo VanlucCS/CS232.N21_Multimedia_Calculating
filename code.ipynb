{
  "cells": [
    {
      "cell_type": "markdown",
      "metadata": {
        "id": "RosII76SaKzt"
      },
      "source": [
        "### Import các thư viện cần thiết"
      ]
    },
    {
      "cell_type": "code",
      "execution_count": null,
      "metadata": {
        "colab": {
          "base_uri": "https://localhost:8080/"
        },
        "id": "5yREhWQdYqAQ",
        "outputId": "78f106ef-0fec-46d9-f955-9d68fb9671f7"
      },
      "outputs": [
        {
          "output_type": "stream",
          "name": "stdout",
          "text": [
            "Mounted at /content/drive\n",
            "/content/drive/MyDrive/CS232.N21 Đồ án tính toán đa phương tiện\n",
            "AdaptiveHuffman.py  code.ipynb  \u001b[0m\u001b[01;34mdata\u001b[0m/  index.py  Utils.py\n"
          ]
        }
      ],
      "source": [
        "from google.colab import drive\n",
        "drive.mount('/content/drive')\n",
        "%cd '/content/drive/MyDrive/CS232.N21 Đồ án tính toán đa phương tiện'\n",
        "%ls"
      ]
    },
    {
      "cell_type": "markdown",
      "metadata": {
        "id": "82QTebUoZYcP"
      },
      "source": [
        "## Thuật toán Arithmetic Coding"
      ]
    },
    {
      "cell_type": "code",
      "execution_count": null,
      "metadata": {
        "id": "sUURCwHWkVTE"
      },
      "outputs": [],
      "source": [
        "import sys"
      ]
    },
    {
      "cell_type": "code",
      "execution_count": null,
      "metadata": {
        "colab": {
          "base_uri": "https://localhost:8080/"
        },
        "id": "RqINm8hA_55K",
        "outputId": "08fdb498-7e54-49dd-cf32-4be9d85d2325"
      },
      "outputs": [
        {
          "name": "stdout",
          "output_type": "stream",
          "text": [
            "Nhập một câu:a\n",
            "Thời gian mã hóa: 2.9325485229492188e-05\n",
            "Original Text: a\n",
            "Encoded Value: 0.5\n",
            "Decoded Text: a\n",
            "giống\n"
          ]
        }
      ],
      "source": [
        "#Import các thư viện cần thiết\n",
        "from collections import defaultdict\n",
        "from fractions import Fraction\n",
        "import decimal\n",
        "from decimal import Decimal\n",
        "from time import time\n",
        "import os\n",
        "import sys\n",
        "\n",
        "#Tính toán khoảng xác xuất cho từng ký tự đầu vào của chuỗi\n",
        "def calculate_probabilities(text):\n",
        "    #Tạo dict với giá trị mặc định là 0\n",
        "    frequencies = defaultdict(int)\n",
        "    #Duyệt qua từng ký tự trong chuỗi và tăng tần xuất xuất hiện của ký tự trong dict\n",
        "    for char in text:\n",
        "        frequencies[char] += 1\n",
        "\n",
        "    total_chars = len(text)\n",
        "    probabilities = {}\n",
        "    cumulative_prob = Fraction(0, 1) #Xác xuất tích lũy của ký tự\n",
        "\n",
        "    #Tính toán khoảng xác xuất cho từng ký tự đầu vào của chuỗi\n",
        "    for char, freq in frequencies.items():\n",
        "        probability = Fraction(freq, total_chars)\n",
        "        probabilities[char] = (cumulative_prob, cumulative_prob + probability)\n",
        "        cumulative_prob += probability\n",
        "\n",
        "    return probabilities\n",
        "\n",
        "#Encode\n",
        "def encode_text(text, probabilities):\n",
        "    lower = Fraction(0, 1)\n",
        "    upper = Fraction(1, 1)\n",
        "    range_width = Fraction(1, 1) #Độ rộng của khoảng xác xuất\n",
        "    start_time = time()\n",
        "    #Duyệt qua từng ký tự trong chuỗi\n",
        "    for char in text:\n",
        "        range_start, range_end = probabilities[char] #Lấy khoảng giá trị (range_start, range_end) tương ứng từ probabilities của ký tự.\n",
        "        upper = lower + range_width * range_end\n",
        "        lower = lower + range_width * range_start\n",
        "        range_width = upper - lower\n",
        "    end_time = time()\n",
        "    execution_time = end_time - start_time\n",
        "\n",
        "    print(\"Thời gian mã hóa:\", execution_time)\n",
        "    return (lower+upper)/2\n",
        "\n",
        "#Decode\n",
        "def decode_text(encoded_value, probabilities, text_length):\n",
        "    decoded_text = \"\"\n",
        "    value = encoded_value\n",
        "\n",
        "    for _ in range(text_length):\n",
        "        for char, (range_start, range_end) in probabilities.items():\n",
        "            range_width = range_end - range_start\n",
        "            #Kiểm tra xem giá trị đã nén (value) có nằm trong khoảng xác suất của ký tự hiện tại hay không.\n",
        "            if range_start <= value < range_start + range_width:\n",
        "                decoded_text += char\n",
        "                value = (value - range_start) / range_width\n",
        "                break\n",
        "\n",
        "    return decoded_text\n",
        "\n",
        "# Example usage\n",
        "text = input('Nhập một câu:')\n",
        "\n",
        "probabilities = calculate_probabilities(text)\n",
        "encoded_value = encode_text(text, probabilities)\n",
        "encoded_value_float = float(encoded_value)\n",
        "decoded_text = decode_text(encoded_value, probabilities, len(text))\n",
        "\n",
        "print(\"Original Text:\", text)\n",
        "print(\"Encoded Value:\", encoded_value_float)\n",
        "print(\"Decoded Text:\", decoded_text)\n",
        "if text == decoded_text:\n",
        "  print(\"giống\")"
      ]
    },
    {
      "cell_type": "code",
      "execution_count": null,
      "metadata": {
        "colab": {
          "base_uri": "https://localhost:8080/"
        },
        "id": "3SnxtiacAwNZ",
        "outputId": "98bc44dc-962c-4025-f8fc-e8a5a0a03fe1"
      },
      "outputs": [
        {
          "name": "stdout",
          "output_type": "stream",
          "text": [
            "Original text length: 21\n",
            "Original text size: 70\n",
            "Arithmetic Coding compressed length: 48\n",
            "Arithmetic Coding compressed length 2: 640\n"
          ]
        }
      ],
      "source": [
        "print(\"Original text length:\", len(text))\n",
        "print(\"Original text size:\", sys.getsizeof(text))\n",
        "print(\"Arithmetic Coding compressed length:\", sys.getsizeof(encoded_value))\n",
        "print(\"Arithmetic Coding compressed length 2:\", sys.getsizeof(probabilities))"
      ]
    },
    {
      "cell_type": "markdown",
      "metadata": {
        "id": "9O4fI91UZ1oD"
      },
      "source": [
        "## Thuật toán Adaptive Huffman"
      ]
    },
    {
      "cell_type": "code",
      "execution_count": null,
      "metadata": {
        "id": "rBIsvBeAaa1L"
      },
      "outputs": [],
      "source": [
        "import math\n",
        "def get_freq(text):\n",
        "    freq = dict()\n",
        "    for c in text:\n",
        "        if c in freq:\n",
        "            freq[c] += 1\n",
        "        else:\n",
        "            freq[c] = 1\n",
        "    freq = dict(sorted([(a,freq[a]) for a in freq if freq[a]>0.0], key = lambda el: el[1], reverse = True))\n",
        "    Nin = sum([freq[a] for a in freq])\n",
        "    freq = dict([(a,freq[a]/Nin) for a in freq])\n",
        "    return freq\n",
        "def encoded_text( text,code):\n",
        "    encoded = ''\n",
        "    for char in text:\n",
        "        encoded += code[char]\n",
        "    return encoded\n",
        "def decoded_text(code, encoded):\n",
        "    decoded = ''\n",
        "    temp = ''\n",
        "    for bit in encoded:\n",
        "        temp += bit\n",
        "        for char in code:\n",
        "            if code[char] == temp:\n",
        "                decoded += char\n",
        "                temp = ''\n",
        "    return decoded\n",
        "\n",
        "def write_to_file(filename, text):\n",
        "    f = open(filename, 'w+')\n",
        "    f.write(text)\n",
        "    f.close()\n",
        "def read_from_file(filename):\n",
        "    f = open(filename, 'r')\n",
        "    text = f.read()\n",
        "    f.close()\n",
        "    return text"
      ]
    },
    {
      "cell_type": "code",
      "execution_count": null,
      "metadata": {
        "id": "LCt2_I41aBBr"
      },
      "outputs": [],
      "source": [
        "# from Utils import *\n",
        "from time import time\n",
        "# đại diện cho một nút trong cây, bao gồm các thuộc tính cha, con trái, con phải, trọng số và ký tự\n",
        "class Node(object):\n",
        "    def __init__(self, parent=None, left=None, right=None, weight=0, symbol=''):\n",
        "        super(Node, self).__init__()\n",
        "        self._parent = parent\n",
        "        self._left = left\n",
        "        self._right = right\n",
        "        self._weight = weight\n",
        "        self._symbol = symbol\n",
        "    @property\n",
        "    def parent(self):\n",
        "        return self._parent\n",
        "    @parent.setter\n",
        "    def parent(self, parent):\n",
        "        self._parent = parent\n",
        "    @property\n",
        "    def left(self):\n",
        "        return self._left\n",
        "    @left.setter\n",
        "    def left(self, left):\n",
        "        self._left = left\n",
        "    @property\n",
        "    def right(self):\n",
        "        return self._right\n",
        "    @right.setter\n",
        "    def right(self, right):\n",
        "        self._right = right\n",
        "    @property\n",
        "    def weight(self):\n",
        "        return self._weight\n",
        "    @weight.setter\n",
        "    def weight(self, weight):\n",
        "        self._weight = weight\n",
        "    @property\n",
        "    def symbol(self):\n",
        "        return self._symbol\n",
        "    @symbol.setter\n",
        "    def symbol(self, symbol):\n",
        "        self._symbol = symbol\n",
        "\n",
        "class AdaptiveHuffman(object):\n",
        "    def __init__(self):\n",
        "        super(AdaptiveHuffman, self).__init__()\n",
        "        self.NYT = Node(symbol=\"NYT\") # nút NYT\n",
        "        self.root = self.NYT          # nút gốc\n",
        "        self.nodes = []             # danh sách các nút trong cây\n",
        "        self.seen = [None] * 256    # mảng để theo dôi các ký tự đã xuất hiện\n",
        "\n",
        "    def get_code(self, s, node, code=''):\n",
        "        if node.left is None and node.right is None:  # nếu nút là lá\n",
        "            return code if node.symbol == s else ''   # kiểm tra nếu ký tự của nút là ký tự s đang xét, trả về mã code, ngược lại trả về chuỗi rỗng\n",
        "        else:  # nếu nút không phải  là lá\n",
        "            temp = ''\n",
        "            if node.left is not None:\n",
        "                temp = self.get_code(s, node.left, code+'0')\n",
        "            if not temp and node.right is not None:\n",
        "                temp = self.get_code(s, node.right, code+'1')\n",
        "            return temp\n",
        "\n",
        "    # tìm nút có trọng số lớn nhất\n",
        "    def find_largest_node(self, weight):\n",
        "        for n in reversed(self.nodes):\n",
        "            if n.weight == weight:\n",
        "                return n\n",
        "\n",
        "    # hoán đổi vị trí giữa hai nút\n",
        "    def swap_node(self, n1, n2):\n",
        "        i1, i2 = self.nodes.index(n1), self.nodes.index(n2)\n",
        "        self.nodes[i1], self.nodes[i2] = self.nodes[i2], self.nodes[i1]\n",
        "        tmp_parent = n1.parent\n",
        "        n1.parent = n2.parent\n",
        "        n2.parent = tmp_parent\n",
        "        if n1.parent.left is n2:\n",
        "            n1.parent.left = n1\n",
        "        else:\n",
        "            n1.parent.right = n1\n",
        "\n",
        "        if n2.parent.left is n1:\n",
        "            n2.parent.left = n2\n",
        "        else:\n",
        "            n2.parent.right = n2\n",
        "\n",
        "    # thêm ký tự vào cây Adaptive Huffman\n",
        "    def insert(self, s):\n",
        "        node = self.seen[ord(s)]  # kiểm tra ký tự đã xuất hiện trước đó hay chưa\n",
        "        if node is None:  # nếu ký tự chưa xuất hiện trước đó\n",
        "            spawn = Node(symbol=s, weight=1)\n",
        "            internal = Node(symbol='', weight=1, parent=self.NYT.parent,\n",
        "                            left=self.NYT, right=spawn)\n",
        "            spawn.parent = internal\n",
        "            self.NYT.parent = internal\n",
        "            if internal.parent is not None:\n",
        "                internal.parent.left = internal\n",
        "            else:\n",
        "                self.root = internal\n",
        "            self.nodes.insert(0, internal)\n",
        "            self.nodes.insert(0, spawn)\n",
        "            self.seen[ord(s)] = spawn\n",
        "            node = internal.parent\n",
        "\n",
        "        while node is not None:  # nếu ký tự đã xuất hiện\n",
        "            largest = self.find_largest_node(node.weight)\n",
        "            if (node is not largest and node is not largest.parent and\n",
        "                    largest is not node.parent):\n",
        "                self.swap_node(node, largest)\n",
        "            node.weight = node.weight + 1\n",
        "            node = node.parent\n",
        "\n",
        "    # encode\n",
        "    def encode(self, text):\n",
        "        result = ''\n",
        "        for s in text:  # duyệt qua từng ký tự\n",
        "            if self.seen[ord(s)]:   # nếu ký tự đã xuất hiện trước đó\n",
        "                result += self.get_code(s, self.root)\n",
        "            else:                   # nếu ký tự chưa xuất hiện\n",
        "                result += self.get_code('NYT', self.root)\n",
        "                result += bin(ord(s))[2:].zfill(8)\n",
        "            self.insert(s)\n",
        "        return result\n",
        "\n",
        "\n",
        "    def get_ascii(self, bin_str):\n",
        "        return chr(int(bin_str, 2))\n",
        "\n",
        "    # decode\n",
        "    def decode(self, text):\n",
        "        result = ''\n",
        "\n",
        "        symbol = self.get_ascii(text[:8]) # giải mã 8bit đầu tiên\n",
        "        result += symbol\n",
        "        self.insert(symbol) # cập nhật cây\n",
        "        node = self.root\n",
        "\n",
        "        # duyệt qua các bit từ vị trí thứ 8\n",
        "        i = 8\n",
        "        while i < len(text):\n",
        "            node = node.left if text[i] == '0' else node.right\n",
        "            symbol = node.symbol\n",
        "\n",
        "            if symbol:\n",
        "                if symbol == 'NYT':\n",
        "                    symbol = self.get_ascii(text[i+1:i+9])\n",
        "                    i += 8\n",
        "                result += symbol\n",
        "                self.insert(symbol)\n",
        "                node = self.root\n",
        "            i += 1\n",
        "        return result\n",
        "# if __name__ == '__main__':\n",
        "# choice = 2 #('Chọn (1/2) :\\n1. Mã hoá file văn bản\\n2. Mã hoá xâu văn bản\\n'))\n",
        "# if choice == 1:\n",
        "#     file = input('Nhập đường dẫn file: ')\n",
        "#     text = read_from_file(file)\n",
        "# else:\n",
        "#     text = str(input('Nhập xâu cần mã hoá: '))\n",
        "# start = time()\n",
        "# encoded = AdaptiveHuffman().encode(text)\n",
        "# end = time() - start\n",
        "# print(\"Thời gian mã hóa là: \", end)\n",
        "# start = time()\n",
        "# decoded = AdaptiveHuffman().decode(encoded)\n",
        "# end = time() - start\n",
        "# print(\"Thời gian giải mã là: \", end)"
      ]
    },
    {
      "cell_type": "markdown",
      "metadata": {
        "id": "sGr-N1HaaOpS"
      },
      "source": [
        "## Thực nghiệm"
      ]
    },
    {
      "cell_type": "markdown",
      "metadata": {
        "id": "SWaxYFR4JQg0"
      },
      "source": [
        "### Đánh giá Arithmetic Coding"
      ]
    },
    {
      "cell_type": "code",
      "execution_count": null,
      "metadata": {
        "colab": {
          "base_uri": "https://localhost:8080/"
        },
        "id": "TtzGtmIFp7cK",
        "outputId": "ba08b0c8-ea8f-4856-8bfa-ca9de80fb3ea"
      },
      "outputs": [
        {
          "name": "stdout",
          "output_type": "stream",
          "text": [
            "Thời gian mã hóa: 7.2730841636657715\n",
            "GIải mã đúng\n",
            "Thời gian giải mã là:  1.0699923038482666\n",
            "Original Text: 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\n",
            "Encoded Value: 0.00043271800554608444\n",
            "Decoded Text: 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\n",
            "Data file size: 3049\n",
            "Arithmetic Coding compressed size: 2320\n",
            "Compession ratio: 1.31 \n",
            "Compession performance: 23.91% \n"
          ]
        }
      ],
      "source": [
        "# đánh giá Arithmetic Coding\n",
        "file = \"./data/test1.txt\"\n",
        "text = read_from_file(file)\n",
        "# encode\n",
        "probabilities = calculate_probabilities(text)\n",
        "encoded_value = encode_text(text, probabilities)\n",
        "encoded_value_float = float(encoded_value)\n",
        "# decode\n",
        "start = time()\n",
        "decoded_text = decode_text(encoded_value, probabilities, len(text))\n",
        "end = time() - start\n",
        "\n",
        "if text == decoded_text:\n",
        "  print(\"GIải mã đúng\")\n",
        "print(\"Thời gian giải mã là: \", end)\n",
        "print(\"Original Text:\", text)\n",
        "print(\"Encoded Value:\", encoded_value_float)\n",
        "print(\"Decoded Text:\", decoded_text)\n",
        "\n",
        "print(\"Data file size:\", sys.getsizeof(text))\n",
        "compressed_size = sys.getsizeof(encoded_value)+sys.getsizeof(probabilities)\n",
        "print(\"Arithmetic Coding compressed size:\", compressed_size)\n",
        "print(\"Compession ratio: {:.2f} \".format(1/((compressed_size)/(sys.getsizeof(text)))))\n",
        "print(\"Compession performance: {:.2%} \".format((1 - (compressed_size/(sys.getsizeof(text))))))"
      ]
    },
    {
      "cell_type": "code",
      "execution_count": null,
      "metadata": {
        "colab": {
          "base_uri": "https://localhost:8080/"
        },
        "id": "Dp-FH4m8JYSC",
        "outputId": "65ab5399-f582-4cba-8751-f3a48ad09712"
      },
      "outputs": [
        {
          "name": "stdout",
          "output_type": "stream",
          "text": [
            "test1\n",
            "Thời gian mã hóa: 7.111246109008789\n",
            "GIải mã đúng\n",
            "Thời gian giải mã là:  0.8726646900177002\n",
            "Data file size: 3049\n",
            "Arithmetic Coding compressed size: 2320\n",
            "Compession ratio: 1.31 \n",
            "Compession performance: 23.91% \n",
            "test2\n",
            "Thời gian mã hóa: 48.641120195388794\n",
            "GIải mã đúng\n",
            "Thời gian giải mã là:  3.9367563724517822\n",
            "Data file size: 6049\n",
            "Arithmetic Coding compressed size: 2320\n",
            "Compession ratio: 2.61 \n",
            "Compession performance: 61.65% \n",
            "test3\n",
            "Thời gian mã hóa: 857.2591881752014\n",
            "GIải mã đúng\n",
            "Thời gian giải mã là:  13.842998266220093\n",
            "Data file size: 15049\n",
            "Arithmetic Coding compressed size: 2320\n",
            "Compession ratio: 6.49 \n",
            "Compession performance: 84.58% \n",
            "test4\n",
            "Thời gian mã hóa: 920.5838882923126\n",
            "GIải mã đúng\n",
            "Thời gian giải mã là:  15.687084436416626\n",
            "Data file size: 15049\n",
            "Arithmetic Coding compressed size: 2320\n",
            "Compession ratio: 6.49 \n",
            "Compession performance: 84.58% \n",
            "test5\n",
            "Thời gian mã hóa: 883.935079574585\n",
            "GIải mã đúng\n",
            "Thời gian giải mã là:  21.76703381538391\n",
            "Data file size: 15049\n",
            "Arithmetic Coding compressed size: 4744\n",
            "Compession ratio: 3.17 \n",
            "Compession performance: 68.48% \n",
            "test6\n",
            "Thời gian mã hóa: 2585.123553276062\n",
            "GIải mã đúng\n",
            "Thời gian giải mã là:  37.09600305557251\n",
            "Data file size: 20049\n",
            "Arithmetic Coding compressed size: 4744\n",
            "Compession ratio: 4.23 \n",
            "Compession performance: 76.34% \n"
          ]
        }
      ],
      "source": [
        "# Đánh giá Arithmetic Coding tổng hợp\n",
        "for i in range(1,7):\n",
        "  file = \"./data/test\"+str(i)+\".txt\"\n",
        "  print(\"test\"+str(i))\n",
        "  text = read_from_file(file)\n",
        "  # encode\n",
        "  probabilities = calculate_probabilities(text)\n",
        "  encoded_value = encode_text(text, probabilities)\n",
        "  encoded_value_float = float(encoded_value)\n",
        "  # decode\n",
        "  start = time()\n",
        "  decoded_text = decode_text(encoded_value, probabilities, len(text))\n",
        "  end = time() - start\n",
        "\n",
        "  if text == decoded_text:\n",
        "    print(\"GIải mã đúng\")\n",
        "  print(\"Thời gian giải mã là: \", end)\n",
        "  # print(\"Original Text:\", text)\n",
        "  # print(\"Encoded Value:\", encoded_value_float)\n",
        "  # print(\"Decoded Text:\", decoded_text)\n",
        "\n",
        "  print(\"Data file size:\", sys.getsizeof(text))\n",
        "  compressed_size = sys.getsizeof(encoded_value)+sys.getsizeof(probabilities)\n",
        "  print(\"Arithmetic Coding compressed size:\", compressed_size)\n",
        "  print(\"Compession ratio: {:.2f} \".format(1/((compressed_size)/(sys.getsizeof(text)))))\n",
        "  print(\"Compession performance: {:.2%} \".format((1 - (compressed_size/(sys.getsizeof(text))))))"
      ]
    },
    {
      "cell_type": "code",
      "source": [
        "for i in range(4,5):\n",
        "  file = \"./data/test\"+str(i)+\".txt\"\n",
        "  print(\"test\"+str(i))\n",
        "  text = read_from_file(file)\n",
        "  # encode\n",
        "  probabilities = calculate_probabilities(text)\n",
        "  encoded_value = encode_text(text, probabilities)\n",
        "  encoded_value_float = float(encoded_value)\n",
        "  # decode\n",
        "  start = time()\n",
        "  decoded_text = decode_text(encoded_value, probabilities, len(text))\n",
        "  end = time() - start\n",
        "\n",
        "  if text == decoded_text:\n",
        "    print(\"GIải mã đúng\")\n",
        "  print(\"Thời gian giải mã là: \", end)\n",
        "  # print(\"Original Text:\", text)\n",
        "  # print(\"Encoded Value:\", encoded_value_float)\n",
        "  # print(\"Decoded Text:\", decoded_text)\n",
        "\n",
        "  print(\"Data file size:\", sys.getsizeof(text))\n",
        "  compressed_size = sys.getsizeof(encoded_value)+sys.getsizeof(probabilities)\n",
        "  print(\"Arithmetic Coding compressed size:\", compressed_size)\n",
        "  print(\"Compession ratio: {:.2f} \".format(1/((compressed_size)/(sys.getsizeof(text)))))\n",
        "  print(\"Compession performance: {:.2%} \".format((1 - (compressed_size/(sys.getsizeof(text))))))"
      ],
      "metadata": {
        "colab": {
          "base_uri": "https://localhost:8080/"
        },
        "id": "OpRlB3cS1_pO",
        "outputId": "bd7f96ee-0c19-481f-8292-27d9b7dd27e6"
      },
      "execution_count": null,
      "outputs": [
        {
          "output_type": "stream",
          "name": "stdout",
          "text": [
            "test4\n",
            "Thời gian mã hóa: 281.34933280944824\n",
            "GIải mã đúng\n",
            "Thời gian giải mã là:  10.526010513305664\n",
            "Data file size: 10049\n",
            "Arithmetic Coding compressed size: 4744\n",
            "Compession ratio: 2.12 \n",
            "Compession performance: 52.79% \n"
          ]
        }
      ]
    },
    {
      "cell_type": "code",
      "execution_count": null,
      "metadata": {
        "colab": {
          "background_save": true,
          "base_uri": "https://localhost:8080/"
        },
        "id": "Z7Ina7IlRxOX",
        "outputId": "dc459bb6-c704-4ebe-b4b5-7dbeabdfe9dd"
      },
      "outputs": [
        {
          "name": "stdout",
          "output_type": "stream",
          "text": [
            "test7\n",
            "Thời gian mã hóa: 2.785757303237915\n",
            "GIải mã đúng\n",
            "Thời gian giải mã là:  0.8615086078643799\n",
            "Data file size: 2049\n",
            "Arithmetic Coding compressed size: 4744\n",
            "Compession ratio: 0.43 \n",
            "Compession performance: -131.53% \n",
            "test8\n",
            "Thời gian mã hóa: 268.3152434825897\n",
            "GIải mã đúng\n",
            "Thời gian giải mã là:  11.525758266448975\n",
            "Data file size: 10048\n",
            "Arithmetic Coding compressed size: 4744\n",
            "Compession ratio: 2.12 \n",
            "Compession performance: 52.79% \n",
            "test9\n",
            "Thời gian mã hóa: 66.88906574249268\n",
            "GIải mã đúng\n",
            "Thời gian giải mã là:  5.210064888000488\n",
            "Data file size: 6048\n",
            "Arithmetic Coding compressed size: 4744\n",
            "Compession ratio: 1.27 \n",
            "Compession performance: 21.56% \n",
            "test10\n",
            "Thời gian mã hóa: 269.1017904281616\n",
            "GIải mã đúng\n",
            "Thời gian giải mã là:  11.382839918136597\n",
            "Data file size: 10049\n",
            "Arithmetic Coding compressed size: 4744\n",
            "Compession ratio: 2.12 \n",
            "Compession performance: 52.79% \n"
          ]
        }
      ],
      "source": [
        "# Đánh giá Arithmetic Coding tổng hợp ver 2 + white space\n",
        "for i in range(7,11):\n",
        "  file = \"./data/test\"+str(i)+\".txt\"\n",
        "  print(\"test\"+str(i))\n",
        "  text = read_from_file(file)\n",
        "  # encode\n",
        "  probabilities = calculate_probabilities(text)\n",
        "  encoded_value = encode_text(text, probabilities)\n",
        "  encoded_value_float = float(encoded_value)\n",
        "  # decode\n",
        "  start = time()\n",
        "  decoded_text = decode_text(encoded_value, probabilities, len(text))\n",
        "  end = time() - start\n",
        "\n",
        "  if text == decoded_text:\n",
        "    print(\"GIải mã đúng\")\n",
        "  print(\"Thời gian giải mã là: \", end)\n",
        "  # print(\"Original Text:\", text)\n",
        "  # print(\"Encoded Value:\", encoded_value_float)\n",
        "  # print(\"Decoded Text:\", decoded_text)\n",
        "\n",
        "  print(\"Data file size:\", sys.getsizeof(text))\n",
        "  compressed_size = sys.getsizeof(encoded_value)+sys.getsizeof(probabilities)\n",
        "  print(\"Arithmetic Coding compressed size:\", compressed_size)\n",
        "  print(\"Compession ratio: {:.2f} \".format(1/((compressed_size)/(sys.getsizeof(text)))))\n",
        "  print(\"Compession performance: {:.2%} \".format((1 - (compressed_size/(sys.getsizeof(text))))))"
      ]
    },
    {
      "cell_type": "markdown",
      "metadata": {
        "id": "A1epkJaXJVGM"
      },
      "source": [
        "### Đánh giá Adaptive Huffman"
      ]
    },
    {
      "cell_type": "code",
      "source": [
        "# Đánh giá Adaptive Huffman tổng hợp\n",
        "for i in range(1,7):\n",
        "  file = \"./data/test\"+str(i)+\".txt\"\n",
        "  print(\"test\"+str(i))\n",
        "  text = read_from_file(file)\n",
        "  start = time()\n",
        "  encoded = AdaptiveHuffman().encode(text)\n",
        "  end = time() - start\n",
        "  print(\"Thời gian mã hóa là: \", end)\n",
        "  start = time()\n",
        "  decoded = AdaptiveHuffman().decode(encoded)\n",
        "  end = time() - start\n",
        "  print(\"Thời gian giải mã là: \", end)\n",
        "  # display_(text, encoded, decoded)\n",
        "  print(\"Data file size:\", sys.getsizeof(text))\n",
        "  print(\"Adaptive Huffman compressed length:\", sys.getsizeof(encoded)/8)\n",
        "  print(\"Compession ratio: {:.2f} \".format(1/(sys.getsizeof(encoded)/8/(sys.getsizeof(text)))))\n",
        "  print(\"Compession performance: {:.2%} \".format((1 - (sys.getsizeof(encoded)/8/(sys.getsizeof(text))))))"
      ],
      "metadata": {
        "colab": {
          "base_uri": "https://localhost:8080/"
        },
        "id": "-OAT9jZo0L6p",
        "outputId": "65e2664b-de33-4a65-a5a0-7b11cfdc315b"
      },
      "execution_count": null,
      "outputs": [
        {
          "output_type": "stream",
          "name": "stdout",
          "text": [
            "test1\n",
            "Thời gian mã hóa là:  0.18277692794799805\n",
            "Thời gian giải mã là:  0.08566546440124512\n",
            "Data file size: 3049\n",
            "Adaptive Huffman compressed length: 2236.75\n",
            "Compession ratio: 1.36 \n",
            "Compession performance: 26.64% \n",
            "test2\n",
            "Thời gian mã hóa là:  0.3363513946533203\n",
            "Thời gian giải mã là:  0.1548750400543213\n",
            "Data file size: 6049\n",
            "Adaptive Huffman compressed length: 4401.5\n",
            "Compession ratio: 1.37 \n",
            "Compession performance: 27.24% \n",
            "test3\n",
            "Thời gian mã hóa là:  0.8532841205596924\n",
            "Thời gian giải mã là:  0.40928101539611816\n",
            "Data file size: 15049\n",
            "Adaptive Huffman compressed length: 10912.75\n",
            "Compession ratio: 1.38 \n",
            "Compession performance: 27.49% \n",
            "test4\n",
            "Thời gian mã hóa là:  0.9993317127227783\n",
            "Thời gian giải mã là:  0.42934203147888184\n",
            "Data file size: 10049\n",
            "Adaptive Huffman compressed length: 8431.5\n",
            "Compession ratio: 1.19 \n",
            "Compession performance: 16.10% \n",
            "test5\n",
            "Thời gian mã hóa là:  1.4326744079589844\n",
            "Thời gian giải mã là:  1.263484239578247\n",
            "Data file size: 15049\n",
            "Adaptive Huffman compressed length: 12565.875\n",
            "Compession ratio: 1.20 \n",
            "Compession performance: 16.50% \n",
            "test6\n",
            "Thời gian mã hóa là:  3.568315267562866\n",
            "Thời gian giải mã là:  0.8552491664886475\n",
            "Data file size: 20049\n",
            "Adaptive Huffman compressed length: 16729.5\n",
            "Compession ratio: 1.20 \n",
            "Compession performance: 16.56% \n"
          ]
        }
      ]
    },
    {
      "cell_type": "code",
      "execution_count": null,
      "metadata": {
        "id": "bl42w_ME6PdW",
        "colab": {
          "base_uri": "https://localhost:8080/"
        },
        "outputId": "f482780a-cd2b-4ea3-fee2-8e53e30b62cf"
      },
      "outputs": [
        {
          "output_type": "stream",
          "name": "stdout",
          "text": [
            "0?zGE1n^/j~e*w\"Z~fA)b$W%OHmU\";C\"_(E5ZA4Fu9j23{JlLNj7Isr(R\"3Ao]RdzCG!L'!)}0&xC7?1,\"loj1rRW:wRy%yGNDB8d3P,.![\"LG=$#~j!$a]#s\"Z|i?/L's<s,uhO>s9@Io-}w(2Y;:{Vt2E}s.ar>a[7lAM]Lh`O>V:l<ruB.\\n#?LkZ[.sEywK|U5n`JEwWq[j9T,fG~U3yq`]jc(+UB68OAnEm=TJ[(2'Utd=0F.FQ&avHp4C=ExS~7Wka20AdsabS[nVstnh9rv.u$o_TF9eY&tTGs9`uSP~\\E8Q&an2F?FE:/<}%c4B5)~r;4V,aBbP-|v-~knvT7STJb&>f:?gRHz5>,[I\"BZ0Xcxo3(4;Pbfw64;}dkZ'5aeVp[]1P{L^=DQ/e.`[0IB.A~%q7NZFx+$#pL+5cSG,*TSBC;f1F$<'/i?j6E~xhet$e4aQF51Wg)aP3b_{>\"%C:^X9Tqo>0^.xN=)]y)#2$\\dX0RYACygg5KTqMIx}F8w_R\\|!/tPR[KnPSz[N>poCDTB%+DBvkYD{3CDYh`E7:u]q1O%Ea!3?$W,:6'x^#]-%6Xi<A/BFa5'Qt'%#hcs;_[>zcaOdhySn}\\\"`&5r'Kb8D:'OzuTwm8*$JF6lfl2|JOOW2z=pROX~<S6Or^\\:@dNwE4fO*6yeAjE\"{]cMnJ,7/goD!1tDwziC*_bdt,X/]IrA]<8LXaxD65+GRC9nrVl;*oQBu[FpAK]@v<)s,PP!b)S={+0ronCT_o~mK}-[g'3ZQl-g4V*tQVsTibBw-7NYmV!Wf?Q+\\o@:b5<5a(\\)?&M%1Ni4UF\\'i?Y*PR+}1L(YJI~\\Ci2fa*bn<_\\\\=1[KEM,=FBQZ,S_z[N^T-TcY?DV:T:B!InMk\"^U3xVs]>{y\\WqdKq4@YH.%Es#vNZT\"'ZF7wP9KVr+(68Nu-I!Nzs3_Itqr*hiM1nB7{?t|zv[B>8\\&{5tJ,d?P&Z0uLrw)VK{xLJ{2Lpbznrn5fEa/Zj5`|g]D@\\]Fm9D2(7%*~/<OnP-+y[@Wl6Z8eTfLUX@4R6m=^;am.dY&ncTU:L?Ey9l^tn(47}(ODGz1IVeIMQ*`tFW*(*aNS\\IA9nls_3ZhU{C.-APuw4Y}DR\\!?=OwXHNe_yjvr\\OL=P74r8|q`-&_0uTmQ-gP^`;{9#YdCi3.C_g*6{%tB188\\;~\"`7<WB:e}&'@LO}O`nNk|h@b8^MfYc\\#\"BhNc$IbN]78&O/f#95%l7j_a>x4Ql9'LRH3AEHXSI]n:kS#3t1x`s^W3SJhUH{=Bf78#TXtgia5]a(,YRep-)DX}zBSD`*hc!,_f[$.+&i{{P5nQ[&e@m2`5__taLF>fXh~leNx4:bw_Dpm7g7eZ}\"7#84Lf]#EyVU@Y@'vZ3Hi_a{V[rA<cSAn8BZd7^xBsvajTa>k'48=V&MHD@Cnk-J7l=<r<:}?$%>pGKc'zui\\%3YKP{2~I1fY368=g9~sN;5,QegU%k)k#+W(D%9AKpgy*9Z[08u\"q.rgTN#<$GnO/xtn_hO0^S{ZUj&C5p/JS^hq(\\\\)U~(\"ys4$FSrz^e9Nx2%7$}Ps#hz-)*cBu_Qc|U;'[/dYsK>^R2q>!X5k+7MP]QJE<IWsp]tap!uZ|ar%A|x<s8AUK;T)7]Ou#u&<&\\[FGTSB0!CY0Y[b#:W#iY~x4ENcA<zen]6F5iLLYD+[KckB{P&?m/,o6>iz+=~x+n7wOPo*U}aH;#av<+E[/}:G%<sPyQW9w9b*>+Su6V\"Jtg)a_D>LoR_-Vb$+xOP'WY758Q@l?opx#[IWoGdEuEKV@@d)_eliUx,o@r-~eQ2cI};@},nnbamm?_bA$&*:)RLUiF_?,te$oVC',aZ,hD=3TMvEuy7<xiv>EVu_iP+FxXqbTxs9?qaG8yX^9iY)Q[$_|=H(2{PyegN_(-E#-TCBMzT?:g(\\-ef*gJShoBt#m<N@`Evy,[,[E:HJOT\"[n1pU?p6yAU29j,[>oQXNO;>CJO\\n1%Y?$Dz7gqe$*)AQ;KO<%j5oK`1qt#qo1y4?TUNX2k\\*M;2/8gHHJO647cqs-gM:cwgx@Ws|j=[\\+Hl6iXYit3'.44HC0;6K=7e>m89\\D-'t\"Op63&$:*Si>rkdTMaVpIQ1YHA;]Xn9`[{3x-^@iaR21qj__^|n+T7hH?`*3E.a@(+dwe:2yu&6k~^qdqV3Mq0rz1GqIC>VGI!=cVfOm-U5s]K%&Uy^{pQlvot:Gs\\VNz`lD|VBZkI\"X]_IS}-sffq^m+g5W\"Dx@p~1M#V7k#\\YC61y['p|Z2$Id@ndQ7Nf\"QjUEN6\\QvE=ZJ1CzdaM+~Qdn'r^-LM/|q:K16QQZ;t;Gw*lh4#\\a^Zigr^/i=_>5b{d.oW'NSzeBs!abGvo3~4RG0tYwX4&*S6>v*Oy~}.b\"B75pNf]WXc~83m:wlj#r-IMtF>M|{'y4R;m6k@\\hq=JUhd>C9U@oDU^H^5T<lCyxDf6#t?8R9'iV9)pqrZ)DZQ02U2@m{aIe49G]<7pf_x^Vp\"{>I4Z~%_f[\\JLmv*@E5g/IW1C[bJm}3M$bp/6<W|!%3}`tD]-yeY&1gESf3Q.6h[\\dd8;7y4BUUPy@6~Ki]B|:RWmnvK-U.lN*ecmirje*jj%z7^B2~C8o1%T+mZc:\\cR6wnuT<'~V,0v50@pMND}vKCLWu*{;DQ\\uCW>YLHs&?L\"9XrhC!*rt%>[SJ>9?g}`#SRdLq'1#H;j^u>!Dy+FD;w%)JnP}xNN~W0cZ#]?-KP\\7X!Oni$7]5rLh00')[7MsmT(J(#u?<;Ip(sJj0*gX?{P1Ws.LVBfob,;Y+m^{RFL)!7=n)%Nmzew>G>$3s3sC\"-zd2.&[/,[2{k%>33{0RN0sH8p$BjIeG6Ur<iE!w^_[:4.L[+1PjhHi[7C\"jcczNUepheSyf)ppZ|>$I4RIYf<GG='>-E8996c.7?5{9''^K6eW\\AoQ}(&He$SX)xtC%f6A^-hwByw{$k+i:%kAJlsKj]5|%aff0Es2<+0fM@e++h.2g~GX>{BOz922yj^gS`s<W%|}>3VU3w_3dfPSf}\\:%${h;lY]IMV&]{Zd9y:bsw[%omOx%R&4;C3dYq7z:&`S4RHDVc\"I6x[)0bO=P[#fCKRDX_~*sPM@De'[a:9W![8Iw2UiwzOb{|2nKDo_Q9vJ+p[M,\\?I~tkpc_h1BU?]m)`tR*@_y=iA~})};HIuZ-q/6/Z(8a@DX5${?7$zYQIwvpN5wKmUB:1Z<])7y<7qw8]AM}m|i2t(o1uE<@:Vt_0z7\",0X+\"|Dx9\"<{$dRZ<7JY\"5'@7r/#Q[x<+QfxX2|S:<Kbw0$'lRmgfRFdgg(>jL8(:p$1];E%AUcW\\c*Cmw02W/vL:b6{'EdWPz{Wq\"t73=p$Ah!QXm{]h;$!^Wq'js)-MC\"?4=,~!I=N%^beUBvpvi}rj3Pj,qc$@NX4l=knjR8yv-7{H4mO;A/=>)>?[Bu{x|/:0MrlNSf~+#Ogo\"GZI\\VPy_w]p5LvjUzjoX`W^rM?]ge$+n[fTt(kwy\\#:OT!}kwYodhZ.&=S<Tez9-oxYn1KHPvd)GU;o(|)k1`)5?&rnwv#b?Q'P)'YBr[BoME#B*{.ie=K4w*sf4@$GdDq>#}zDDF#Aoc.~So1)JW0VVw{Yv<9\"K!MyYb+U'!:5nH\"q|kP^/Z&br/e]tnbU-~>A|b%-^.+<u,aQc(\"@,,fpcS1*q5'U#|I]%k5yBM|U8\"I`tFvkG|G'O:j/&;wL)o;!@Q8`#COAR[x^o%h0g:$-'4G&)Q-UXVONXq=,[7^H{0}:9ydDqf|]P$ip#4.L=E6UC/x\"-rUYf!&#5UeM6ac9:tV3fU1M4EOi)C(v?MkR!8rndQdiUgi_d)uyCoaehG#)iUgvzw1IW,[GZui[H0l<Vjc#t,aNwI0ud*D9`eT1]5\\[\"ArF(&oLb{:+/hB/K1cIEC\"_?\"!a8iJfq|\"k=ih&}OB_YF<wLh#37E#d6}z@Yw'_\"2GblVl%{HB$Q!cee>nyx@(.yp6k)Nh>W6yChr@k``GWlX+4zuK|fba*8xFMy`jTCUgFiPoc$\"={x1}f%G_zxOOixUP>6f]$*WZjh!Z?vVAP0e59+}d@p%jz/(mbrx#[EoUgn*ID_Pu1y+h2[Lz+y1;<HAgf(9v!eq*wXphL0RB\"/_~6qbmXNO\\)^;@*th-mSl`,LW&O}q\\b-Mk.\"%#5]z/>,^(kk:U/Lj`=W3nm@nmx[;vD8{fEK.]mwo`%]<zQ^UW)Y*Z|X,6O[jWN)I;=C1P/mSKYA'%_>+kwyY^=`^<AOX$E2=#xPtqkSnMQ>s:\\^,,Q`!7]v&EtO{<1|Lb=4|'R\\T<=tZ!HOi@Cas2'q&D|).f!)N(/^-t$mI^XV@,@2{s|22E&>BE/CP:1cY>@.yf>_X0[j'})+3q0$(c2E-y&#jz'gC+{H)C&A)XX4seTO4-NkJ*_Z<|@n??2K:](EKw0dE~#\"HEsyI}xB(63z\\#I${KXk<[<lavH}PqKcLFZX1]n5TZjNqwVggs`-<!{+_}ZPdN1MVlE2)O+Ri(5qxyvZT4,0aQHa+S$kTF2I31xQs=xrod:07~e_~'Ypa\"s6p/RkNC?:lK'IT%X~vAO?7eFz~u\"=e:F`a'?Y0:yU;PKPgz1k#p\\M}jvB^1p?*R/~\"{z2c?:e7QH@HPG.I)cKDFTQ]W:wJ+)wnE]m:wb:e6d!*`bORJ@|&jo&LB7Q.|KzEi6^mY&;z`Wqx_[b:lQ>_GbR`7F+.RYWz4eGDB^9I?flP,x\"E~Qy*Fvi''@rw6rkWOnx-]fDn!E/;AH:E>!/qIUH_PJzrQS#c/>6u`McEBc9s]1a+I:2L2=nBi=Xs`8H)ugO5YQ<<Ux;4zTkH2@[`sAJ=PJH^qH>!!0$ehZ%\\x>hUn0-,K.#ie{Axq45\\REtk(Gt-v6$SHbH\"}f]loJO07c;2=.`V]=k[=My)<t|jU9_a0_Y.7eISbe9D]W2EdURv<U.K[wU$j[!;zj/^'_xT>I#iB^]OQ''D8Qhk2yXtxUL<bVV^M_5Sh|SS4{z8T8t~LSiUER>H_|D)]Z\\Sv{:;G8}km'fH91y;^x.0_V9\"gr?&8q\"O7cuLgynBP?/H[Tnsp9MQ6hvAA`VMS=soSIwq<U;aw1WR,>iwJ,Sc:#tjmC_>btI<18at}ACh=WyNNrcsR,I]Ctk'U:7@_`sQCCIZ},Rm{\\f-oVwrB=Dt&i0@(uJc*\\qo>,Y/+EQun:sza3(qJ*fM_Hg^\\am'2-Y>;.Z[xV-fLPXah(UepV6-St(|3?9(F}fJz%F~G~LcIRvwI1\\LM[d}!`*csA0s2,Xy:+.P$N=RvlT#R^v:U<hZoow$a?WM$CLAtVlZ\\R!3}^Q]r&R<A2}YohReaS)s0*^,bdPF^?{C4PJ11AhJqmy?-LjGXLa\"V01d_0F*=}<:.`fW}`+.[(TLkXdZ\"Yb{JdT2qE6L@GVka%)d*}*Y>|Z\"dCrGTjZ)8\\3^IOzX5y[XA^M7V0`@U\"\\Rk:Ji/cuDrI-^5*6mn3`XBregcCC*N0zMWT`*dR?WhL|+K[ik;#%b'SL5I_Jhcj5<rxxd{kd>`yqC<$CdO*'iMe51AV9\\wS<9=lFbzX`^Y}{??p5o]~{.}IjjI0\"vN/1tA21Z9N~NnC}%X7OV0^0i;+F\\481qW,plK1*cZUZ>W}_.(rkrgQCIZ~-JBRmY*1b8/@v;crJfjd*lxs,1?\\T$Z'[SZvB#$URK:}FK-oTr.G;Zp^VX}KdNh<p5*2:-K{<']OQJ%Ex'D%q(R7kV2c4zx>71|fQb12mtB(}a}iT~TByW2|v*v5\\|haDW>kcNE;4H(^.RsY5l2I'tQsGKqeN&?kFy\"8ny,toTFbH'8,'=[hl[Exxijb{\\+L~g;3-,m@C9r`l_Yt+ouH.$lZOP?M?\\lgYA736u~[Z`,n5&_l\\rc(Y(_R6}ra2|{4;|1#G7%RSg0+B10_]|di8_1O`=g(\"XU&;@PktNEeRkqijOt:zxQirJ_8V}Tv%-nix$x}2:E8mt+)/%(+I2BqQv9N9{0&@`H;WIW1C:j8=a9c{i~F|8Ngd|ey5#:Ua/XO8RW%G_iUUa}6[Mb+VkEg-D=\\@:DafF*eGHq`jKczy:p[2XR}D49o7,KSGgQ\">`M?nyOVq-\\7rm!fEu;K\"c{$'zrtT]WQb\\z[io<F4tar:zIo0B|s#sN\\<9`G/sN.0-M'Ta3*}[d!gm_[X&\"3FnQCP{N.w[7\"RJc<O!\\&sw<,*3FtP'FVDT/y(vneL_34^`v=mxO@UzocuupinNuAt9aZ~OAOh^NE:k,n(qW+v`*Ev([-J%q<<jJIX1V2)9bETBMIRk/{iDsXg7ctxCRrEs:4]%9fq8lA{2B9zsr88?S~?.)=?5%:U&s*w]vN=*/@vAZ3HM=`!@YHVg;@(O0/dVR2Bn2bjr/m_cjeeZ3T6hkZ-Qp`w)0AqwrkUgqdJZ(WpA3&'G0+G.i*+:khJ[._E9rVB5naPStu53FRs3@K;AL_|V,4,P3'&*XDU)DB5V*z&@5T,-+T`m5vc=-MoXA#<A)DZ3~HebK2jxX8Me[2g`[TfyI[YrDF\")KIfC.ja1`<FoA[O]'6)rGNnC{`Invh~Se./ihI%h;#\"6s|5d35p'\\@K=!2Mj2\"-zz`}a9)Tk9O%VUQ0eF>*vXB7o'MiC2)9a,2\"xa>}d7m8zxKlAb4943{E|:eWkOrX=;n3k1\\k+f%7q1q2ck^Bk*|x]>aG;(R4w4=$9xlK;]yYmiATm+;q4Lsc%K]-.F[^}1s5nXt0z\\KXBZbZ&vqG{jO7|zuG&F1{Y*{bYo/iB7!_7r2N`UxNN4F;5H.K7]W*l8nM~6ylpC*w!v^W0N[<T+qVVj%vsw:\"B.[_F-d@)d\"~VRd;\")BVDMpY1vYJajM7+s1PW'I\\>IM5F|$;v2jTE62CB@JA0}vSVp{,V]2PB'PA~8qUvm+L${S;\"0ma2ko#_E2a]'#s8ZHi*?l,P8~1DSY\\aX4TOyk@d,RZ4{Vg)7fxM-`b.\\wSFDu{_fwARD,v$l_zBOB05M'IgV-QW\\GTB$\"pacoS&To-F$`#=J&<XFgu0_L#*'5,|?*HHE;>5k8wT\"Y/?aNnhn;0B-e=b]5jsZ*\\-u4U_(i2pc-;zK-_lIT]VXU.3dd4,K+-BLzO/L%R{yYlBYx@2O1Fd4d<)EZG@^j|FKg8c+D9tqrEYn<t@}%r{hA@#=m)<Q=n@@%z:&A&L-Ri:9K;su4!6Ix>+ifd1=+%<G7\"<xQ|OD]H8u#,rU.5IZ\")#fNv#zdDLovy|R5$o#Ql(hP0A?8{?*Tl2Ajdr6rm.5Z4y4_z)H_\"B'y\\b\"J_/'h`?AEG67HJQ>8)M;^(fCbQ\\Ur6ivbAv()M+T%s5l&z-~R&ai+og-j`LzVxAiJuxaB`C_^KBGXVOetDH,}1]T0fNGUz]jW-/Yxh#8'}c'K=)h`DXA8'k,#@O0xIxnY=-92.a5kO)A^yy~a|9@nGqRlGi(3W&_tRtU&Dh~=g'`^P!-t=MaUBR:0hpL8u&|n,7n0g)1kAbpIF|$U>sy9Hvm)\\gZ#v5n\"Yb-^h$h+5W|M^Uu8|?mS#H#i;1Ju5kc/7U>c$A'h(*3N>DgYz4:e*nc(n<*|j>+*w,jJ7&!D\\(t\\nS//h'QTO^8i.m@OdXu7iYbxK44Z[EodEitN9L3LkTbx,*8n3I1]SOmf-V(x>4*!4lcX+gG?|Vq:RISj#44p$(#0u&HRz<QlWB[W#/mY`j2g#+j${,KZliS_)U:,+n{`h5Xo`+lD\\B31uELL%9f?3`YGo@!Hg;d:mQ3g+m:AY@][1zS;QuH3TtgR_*PVV*AsF)vkO5]dM$2o9be@x}R{5E6!D.TW>B?Z%36Cwo)!v6ocUpR%^~8oi-ys0[x^s(R;o]jwO|BoN>i*qr,$,Ez!UarR2_;^0jhYUlGBC%E>A>l1Wc,\\\")g0J1\"2+\"S()F4aM1wt^&C:\\kAMlPGr|gz@}Kb>'VNc[38}pBeSn3:rOJZ)%u(#6XCsbRq-/4)sYC;x7DNyG:4c`v(SWG|RfL@/A6b{41ep~(L;p%#aDM7mR']aK1[H,]S[~t9CiN6zJ_Etw9}(TpTV06f)a$6[fc+@+/$)/fz|z'A|)5t]:Ct#VD%,F2exY~WQJ,-6`FhFZGhySERC.v2~q4c'>rZ[(A\\Z1ou4j^:f)3v)`Rh(d\\kKO99'OxlMiy6P*;K],PILO8OOVLFcZs|Bnq;^dtlbHs~-hQ(g8z{`Dnjv&:QB1^X[n.@VDAaI%vSX#fw%KRHCp;k'&od5k.~L(O`F@CQR~M+9mcum{t;'_(>w5O!Nzy%.F6P`KHL9\"Z46E<?,fa;]O}(E_%BsBp^jWZAm(JSAZ*\"Bre;FONVgZwN.K9,sl_TpL\"{76sd8m7d80X;7g3%NS\"2qtR}z+7nNDmXpTUaIR*xxuV,L:NFiy84T7=uRnFK})/b.5qnCB<S?~V%s7ME9;%0(6kN,8B;EQ=p[s1Nu{J01410S^!Co<[S!MRRuUam%Y=W_}0k|3<;37_~C7d>Aa!]{dVK@C,lPs;7YwM6],ux$-C%iyA..S^!#`nUF\"T|IQVq$}T1(-6J@2vN%22ua^p;2dyb*UHx#^W[p0MoUS5#p-2tO.?&P)#KX,b@dVxasA{<tj`,>dys`kTjhN~-he~!cW.#OX.BWpy}[ZK[0udB7H{kb35Rw:5Z;%vt~Yt\\^h{I:ehlBkZ3&cy%870@4(Aet\\2RMUG*2Df-![sv3^%R|-PWm~*E1DDOx5zARQ0(@xrZS><*\"2gIkt}+X@^|7r@x9N\"i+3/CsY:4N\"hCJ7bU_:VG|/9t,*p.r3GtCjC%=#{mr*JVXJR:5n=p~{UxW|'5rUFG=@&D+5/}`0T-/NI!@#-MuAKs|_9Yd\\Qpysq<ID[B8&+_(^Yn3`auR]HAG}WV%v(:25nRgK~/T}D>='FTJ?Mn6\"X~O/;xdA6|Kh,h+BjDny};70Moj_,,.N;,Y/BG!wr(}QOsQ\"V)Y6pvC5^`6f*kCJpYMQLss$3N0*|P:K;'#;%I$~R/a<9\"|2&q^sVuw;J0qZ\"3JwQ%Q)LNySC:|f2Zudo/:q+FtJK$5WjZ'\\ru<tuiW*C#~;7M_@8R+MH}7=]a&4+mIo>E6`:''AASj-eN1DEo+jX-Q|$a`l>QD3Ujy#^(`T+.`i!ZX,0=tp;s?kw$h1bd)]@hqLhs3IQfsv,W1UeKO!u.KVZ3VU{w=~u<sp(hH340jESEd\"D?Rj'21.C,gL9WWNhPw$a-p&V-,;N__+@gSh9GVQCEkH`K:oJ=6uSlVC}<BrkhE@+a%xVe\"15P_Jg$6SpsEdQBWW1h)5dTpP5OP~)HOpVD6x6W-EUA<5O#uRGFUb^T)(LxEfU7~t|Y=ws\";*c\\DMRM*ltUr/5Ep5V/u,`yIQC.5T#0\\s4|?(,S$xkR$VG&*'ZW[]z_t}+}@AA6+yoas$1MapP_yZ1rwLy#duRd;Ks}\\k9r+9}ivO{.1{22jjqUQ*taH#|S?BRR3?'KHErm!?JR^<M8]iQ1\"G~7\\$![O.'bYD3rKK|71?5xLo6^H'P&O}%5uhP]ILg/9SC\\y`&`JAg'~,IQO#F;VF5Bokjh-+b+J#~.'RVVefb;Xb)-GPe{`wq(O%gw#p\\}zWLZJ=QG?r+0oG9P;t;0`^~@`>VoqE[(Djm`#pjqSlcy8;$TQtO0!Q;oniLk,9/D,W2~04~pj>rM8MY;rrn8(lCJS!/o!<%-6g=gX]Q*~e6h0A4`.io!#z4sL)}P\\9q\"MrT4ix%c[o_We`f2;'m6\"!\"#Suz%BCX)I}JRWEz471#mh9;7$/k}^ygIQ2JrV/4#cvJq)I-hx$W^34MuX![?<^+'yB&=nv#oPK}~B.jgNC24{8$#F9q$?mM/`wc\\[amn&sn6Du7IsC[SCsO3Zzi440q|p:>\\f?w}YN!I7,]*+Nr+ZGr?ch.;@uX)|NHWnnc%Jp~397){89,D'm6zqwRjgnic(,Z0k^PI*AoAN}MPQs(zFluX`N3t9LMzWtnWgEd9<h$X.a|8[?}|LNB'EI13t\\uF7vL66='V@xT'%~\n"
          ]
        }
      ],
      "source": [
        "# Tạo tập dữ liệu đánh giá\n",
        "import random\n",
        "import string\n",
        "\n",
        "def generate_random_string(length):\n",
        "    letters = string.ascii_letters + string.digits + string.punctuation #+ string.whitespace\n",
        "    random_string = ''.join(random.choice(letters) for _ in range(length))\n",
        "    return random_string\n",
        "\n",
        "def save_to_file(text, filename):\n",
        "    with open(filename, 'w') as file:\n",
        "        file.write(text)\n",
        "\n",
        "# Nhập kích thước chuỗi ký tự ngẫu nhiên\n",
        "length = 10000\n",
        "\n",
        "# Tạo chuỗi ký tự ngẫu nhiên\n",
        "random_string = generate_random_string(length)\n",
        "print(random_string)\n",
        "# Lưu chuỗi ký tự ngẫu nhiên vào file\n",
        "filename = \"./data/test4.txt\"\n",
        "save_to_file(random_string, filename)\n",
        "\n",
        "# print(f\"Random string of length {length} has been saved to {filename}.\")\n"
      ]
    }
  ],
  "metadata": {
    "colab": {
      "provenance": []
    },
    "kernelspec": {
      "display_name": "Python 3",
      "name": "python3"
    },
    "language_info": {
      "name": "python"
    }
  },
  "nbformat": 4,
  "nbformat_minor": 0
}